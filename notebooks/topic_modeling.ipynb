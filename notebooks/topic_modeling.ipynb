{
 "cells": [
  {
   "cell_type": "markdown",
   "metadata": {},
   "source": [
    "# Topic Modeling\n",
    "\n",
    "In this section, we used the preprocessed dataset from feature_engineering.ipynb to model coherent topics."
   ]
  },
  {
   "cell_type": "code",
   "execution_count": null,
   "metadata": {},
   "outputs": [],
   "source": [
    "#importing necessary packages\n",
    "import pandas as pd\n",
    "import matplotlib.pyplot as plt\n",
    "import gensim\n",
    "import gensim.corpora as corpora\n",
    "from gensim.models import CoherenceModel\n",
    "import pyLDAvis\n",
    "import pyLDAvis.gensim_models"
   ]
  },
  {
   "cell_type": "code",
   "execution_count": 2,
   "metadata": {},
   "outputs": [],
   "source": [
    "#loading in preprocessed data\n",
    "trigram = pd.read_csv('data/trigram.csv')"
   ]
  },
  {
   "cell_type": "code",
   "execution_count": 3,
   "metadata": {},
   "outputs": [],
   "source": [
    "#cleaning tweets\n",
    "trigram_sentences = trigram.lemma_words_trigram.apply(lambda x: x.split())\n",
    "\n",
    "#creating dictionary for lda model\n",
    "id2word_trigrams = corpora.Dictionary(trigram_sentences)\n",
    "\n",
    "#creating corpus for lda model\n",
    "texts_trigrams = list(trigram_sentences)\n",
    "corpus_trigram = [id2word_trigrams.doc2bow(x) for x in texts_trigrams]"
   ]
  },
  {
   "cell_type": "code",
   "execution_count": 4,
   "metadata": {},
   "outputs": [],
   "source": [
    "#creating trigram model\n",
    "lda_model_trigram_three_topics = gensim.models.ldamodel.LdaModel(corpus=corpus_trigram, id2word=id2word_trigrams, num_topics=3, random_state=100, update_every=1, chunksize=100, passes=10, alpha='auto', per_word_topics=True)"
   ]
  },
  {
   "cell_type": "code",
   "execution_count": 5,
   "metadata": {},
   "outputs": [
    {
     "name": "stderr",
     "output_type": "stream",
     "text": [
      "C:\\Users\\mikey\\anaconda3\\envs\\contest_env\\lib\\site-packages\\pyLDAvis\\_prepare.py:246: FutureWarning: In a future version of pandas all arguments of DataFrame.drop except for the argument 'labels' will be keyword-only\n",
      "  default_term_info = default_term_info.sort_values(\n"
     ]
    },
    {
     "data": {
      "text/html": [
       "\n",
       "<link rel=\"stylesheet\" type=\"text/css\" href=\"https://cdn.jsdelivr.net/gh/bmabey/pyLDAvis@3.3.1/pyLDAvis/js/ldavis.v1.0.0.css\">\n",
       "\n",
       "\n",
       "<div id=\"ldavis_el2114015755425313442710595493\"></div>\n",
       "<script type=\"text/javascript\">\n",
       "\n",
       "var ldavis_el2114015755425313442710595493_data = {\"mdsDat\": {\"x\": [-0.36069316828686054, 0.215239503016836, 0.14545366527002454], \"y\": [-0.04010758672787184, -0.29089466687454657, 0.3310022536024185], \"topics\": [1, 2, 3], \"cluster\": [1, 1, 1], \"Freq\": [36.36521416793481, 31.832998631531357, 31.801787200533838]}, \"tinfo\": {\"Term\": [\"crypto\", \"get\", \"think\", \"people\", \"go\", \"time\", \"make\", \"say\", \"use\", \"market\", \"also\", \"see\", \"bitcoin\", \"new\", \"good\", \"know\", \"year\", \"want\", \"price\", \"work\", \"take\", \"coin\", \"buy\", \"even\", \"thing\", \"tax\", \"need\", \"well\", \"money\", \"look\", \"think\", \"people\", \"make\", \"use\", \"bitcoin\", \"work\", \"thing\", \"need\", \"money\", \"way\", \"much\", \"tax\", \"right\", \"many\", \"give\", \"back\", \"sell\", \"world\", \"pay\", \"change\", \"bad\", \"something\", \"point\", \"different\", \"eth\", \"great\", \"happen\", \"become\", \"seem\", \"hard\", \"report\", \"yes\", \"time\", \"market\", \"see\", \"new\", \"price\", \"take\", \"even\", \"come\", \"value\", \"still\", \"lot\", \"amp\", \"trade\", \"token\", \"first\", \"big\", \"nft\", \"high\", \"nfts\", \"tweet\", \"start\", \"help\", \"best\", \"find\", \"build\", \"show\", \"user\", \"never\", \"team\", \"book\", \"also\", \"open\", \"asset\", \"mean\", \"get\", \"crypto\", \"go\", \"say\", \"good\", \"year\", \"know\", \"want\", \"buy\", \"look\", \"well\", \"really\", \"coin\", \"try\", \"day\", \"actually\", \"btc\", \"twitter\", \"game\", \"today\", \"let\", \"last\", \"everyone\", \"read\", \"someone\", \"talk\", \"call\", \"hold\", \"ask\", \"account\", \"please\", \"company\"], \"Freq\": [32481.0, 31271.0, 31428.0, 30109.0, 23576.0, 21141.0, 23507.0, 20085.0, 19346.0, 16993.0, 15455.0, 15319.0, 17334.0, 15197.0, 14761.0, 14587.0, 14522.0, 14198.0, 14062.0, 15130.0, 13010.0, 12976.0, 12753.0, 12369.0, 13986.0, 13783.0, 13183.0, 10823.0, 12166.0, 10534.0, 31427.235191028576, 30109.091444482907, 23506.816712567008, 19345.981741623607, 17333.716862187495, 15129.525469758017, 13985.258699835302, 13182.794704673559, 12166.166147431364, 10986.295676944896, 10888.455644557855, 13782.3829850095, 9719.15579879289, 9000.583551682852, 8704.916170518425, 8701.980855436692, 9257.10713355472, 7581.116057846369, 8191.116551204914, 7736.269577142578, 7288.847144612154, 7508.386293442993, 6595.858386874443, 6610.990060299439, 6803.040080719068, 5904.943748414699, 5721.868153479355, 5539.222485209881, 5606.693786692997, 5449.15536584513, 6889.9510483540425, 5868.394276309632, 21140.887824737056, 16992.67983236842, 15318.496558938366, 15196.468044367022, 14061.967158155507, 13009.376032095543, 12368.325601363817, 9931.700318829635, 9322.518438486997, 8938.51994554713, 9231.224445832466, 8881.63872260032, 9415.169739831148, 8768.841082277417, 8559.716243137527, 8480.29782014787, 8633.482151151373, 7491.782240669209, 8580.417844762034, 9069.223484141641, 7221.062028099046, 7704.455472526242, 6665.5437852554505, 6717.548098191945, 6156.949055244833, 6587.443890707137, 5997.924771398859, 6051.274053855066, 5893.928484695774, 8257.34547217994, 15446.655878214242, 6166.429650788981, 8648.783896993375, 8085.503141120109, 31270.622745855937, 32480.122145825702, 23576.144442539175, 20084.955732940474, 14760.827734723294, 14521.21411562155, 14586.817617037066, 14197.932552078508, 12753.067089702083, 10533.525005394045, 10822.208587786134, 9731.648993326524, 12974.964945805257, 9041.904134183984, 7915.655906232421, 7949.709735219701, 6675.881805247041, 6470.9771109412695, 7016.336153631804, 6330.820654078553, 6135.501138500537, 6089.77181163249, 5799.599001582106, 5865.159064745075, 5395.212350498093, 5354.70030996309, 5272.911950449608, 5651.059548981067, 5338.696248916271, 5459.8314471903295, 6990.3970598231945, 6087.325768411316], \"Total\": [32481.0, 31271.0, 31428.0, 30109.0, 23576.0, 21141.0, 23507.0, 20085.0, 19346.0, 16993.0, 15455.0, 15319.0, 17334.0, 15197.0, 14761.0, 14587.0, 14522.0, 14198.0, 14062.0, 15130.0, 13010.0, 12976.0, 12753.0, 12369.0, 13986.0, 13783.0, 13183.0, 10823.0, 12166.0, 10534.0, 31428.117117954913, 30109.94556444387, 23507.6635053834, 19346.82756589483, 17334.506333461162, 15130.389300683322, 13986.105660104095, 13183.635128592465, 12166.979440478986, 10987.12753618235, 10889.297452746767, 13783.452874727978, 9719.992368773343, 9001.419344853459, 8705.769448402083, 8702.83942075681, 9258.038818133287, 7581.911865168943, 8191.996288605424, 7737.103932810321, 7289.700727363496, 7509.269050700744, 6596.679662771861, 6611.8533356658145, 6803.947848861873, 5905.786829603379, 5722.697659322028, 5540.045871334077, 5607.5343459029, 5449.975611029661, 6891.093031876074, 5869.2801868385095, 21141.709389766533, 16993.46434265246, 15319.31772131366, 15197.306701492615, 14062.777979776387, 13010.197844850882, 12369.171419371465, 9932.531365021458, 9323.357561064146, 8939.327223268625, 9232.063656936487, 8882.45521111442, 9416.036398080887, 8769.661412471716, 8560.541488715278, 8481.135233759995, 8634.357864089074, 7492.559220767059, 8581.317355254387, 9070.190800076343, 7221.869912865354, 7705.321437360209, 6666.375764141905, 6718.406345877957, 6157.745486242456, 6588.31523161776, 5998.746225204054, 6052.104316769964, 5894.762507255925, 8258.529476536354, 15455.804054976057, 6167.322351265827, 8716.212241685864, 8141.01668851123, 31271.451516475427, 32481.047257160546, 23576.967443775364, 20085.82205286691, 14761.666182802797, 14522.043285037067, 14587.653143295971, 14198.775226795853, 12753.92984175147, 10534.35283945062, 10823.073112860946, 9732.484051760317, 12976.150004414638, 9042.763248522297, 7916.461354805556, 7950.584995043022, 6676.701149682576, 6471.773602095195, 7017.24978282034, 6331.648778665828, 6136.330076680492, 6090.597830923187, 5800.420200647269, 5866.018921576237, 5396.030340219943, 5355.526253240456, 5273.728210059992, 5651.9447549544275, 5339.540270120931, 5460.701061353373, 6991.577720416027, 6091.839117401299], \"Category\": [\"Default\", \"Default\", \"Default\", \"Default\", \"Default\", \"Default\", \"Default\", \"Default\", \"Default\", \"Default\", \"Default\", \"Default\", \"Default\", \"Default\", \"Default\", \"Default\", \"Default\", \"Default\", \"Default\", \"Default\", \"Default\", \"Default\", \"Default\", \"Default\", \"Default\", \"Default\", \"Default\", \"Default\", \"Default\", \"Default\", \"Topic1\", \"Topic1\", \"Topic1\", \"Topic1\", \"Topic1\", \"Topic1\", \"Topic1\", \"Topic1\", \"Topic1\", \"Topic1\", \"Topic1\", \"Topic1\", \"Topic1\", \"Topic1\", \"Topic1\", \"Topic1\", \"Topic1\", \"Topic1\", \"Topic1\", \"Topic1\", \"Topic1\", \"Topic1\", \"Topic1\", \"Topic1\", \"Topic1\", \"Topic1\", \"Topic1\", \"Topic1\", \"Topic1\", \"Topic1\", \"Topic1\", \"Topic1\", \"Topic2\", \"Topic2\", \"Topic2\", \"Topic2\", \"Topic2\", \"Topic2\", \"Topic2\", \"Topic2\", \"Topic2\", \"Topic2\", \"Topic2\", \"Topic2\", \"Topic2\", \"Topic2\", \"Topic2\", \"Topic2\", \"Topic2\", \"Topic2\", \"Topic2\", \"Topic2\", \"Topic2\", \"Topic2\", \"Topic2\", \"Topic2\", \"Topic2\", \"Topic2\", \"Topic2\", \"Topic2\", \"Topic2\", \"Topic2\", \"Topic2\", \"Topic2\", \"Topic2\", \"Topic2\", \"Topic3\", \"Topic3\", \"Topic3\", \"Topic3\", \"Topic3\", \"Topic3\", \"Topic3\", \"Topic3\", \"Topic3\", \"Topic3\", \"Topic3\", \"Topic3\", \"Topic3\", \"Topic3\", \"Topic3\", \"Topic3\", \"Topic3\", \"Topic3\", \"Topic3\", \"Topic3\", \"Topic3\", \"Topic3\", \"Topic3\", \"Topic3\", \"Topic3\", \"Topic3\", \"Topic3\", \"Topic3\", \"Topic3\", \"Topic3\", \"Topic3\", \"Topic3\"], \"logprob\": [30.0, 29.0, 28.0, 27.0, 26.0, 25.0, 24.0, 23.0, 22.0, 21.0, 20.0, 19.0, 18.0, 17.0, 16.0, 15.0, 14.0, 13.0, 12.0, 11.0, 10.0, 9.0, 8.0, 7.0, 6.0, 5.0, 4.0, 3.0, 2.0, 1.0, -3.8257, -3.8686, -4.1161, -4.3109, -4.4208, -4.5568, -4.6354, -4.6945, -4.7748, -4.8768, -4.8857, -4.65, -4.9993, -5.0761, -5.1095, -5.1099, -5.048, -5.2478, -5.1704, -5.2275, -5.2871, -5.2574, -5.387, -5.3847, -5.356, -5.4976, -5.5291, -5.5616, -5.5495, -5.578, -5.3434, -5.5038, -4.0891, -4.3075, -4.4112, -4.4192, -4.4968, -4.5746, -4.6252, -4.8446, -4.9079, -4.9499, -4.9177, -4.9563, -4.898, -4.9691, -4.9932, -5.0026, -4.9847, -5.1265, -4.9908, -4.9354, -5.1633, -5.0985, -5.2434, -5.2356, -5.3227, -5.2551, -5.3489, -5.34, -5.3664, -5.0292, -4.4029, -5.3212, -4.9829, -5.0502, -3.6966, -3.6587, -3.9791, -4.1394, -4.4474, -4.4637, -4.4592, -4.4862, -4.5936, -4.7848, -4.7577, -4.8639, -4.5763, -4.9375, -5.0705, -5.0662, -5.2408, -5.272, -5.1911, -5.2939, -5.3252, -5.3327, -5.3815, -5.3703, -5.4538, -5.4614, -5.4767, -5.4075, -5.4643, -5.4419, -5.1948, -5.3331], \"loglift\": [30.0, 29.0, 28.0, 27.0, 26.0, 25.0, 24.0, 23.0, 22.0, 21.0, 20.0, 19.0, 18.0, 17.0, 16.0, 15.0, 14.0, 13.0, 12.0, 11.0, 10.0, 9.0, 8.0, 7.0, 6.0, 5.0, 4.0, 3.0, 2.0, 1.0, 1.0115, 1.0115, 1.0115, 1.0115, 1.0115, 1.0115, 1.0115, 1.0115, 1.0115, 1.0115, 1.0115, 1.0115, 1.0115, 1.0115, 1.0115, 1.0115, 1.0115, 1.0115, 1.0115, 1.0114, 1.0114, 1.0114, 1.0114, 1.0114, 1.0114, 1.0114, 1.0114, 1.0114, 1.0114, 1.0114, 1.0114, 1.0114, 1.1446, 1.1446, 1.1446, 1.1446, 1.1446, 1.1446, 1.1446, 1.1446, 1.1446, 1.1446, 1.1446, 1.1446, 1.1446, 1.1446, 1.1446, 1.1446, 1.1446, 1.1446, 1.1446, 1.1446, 1.1446, 1.1446, 1.1445, 1.1445, 1.1445, 1.1445, 1.1445, 1.1445, 1.1445, 1.1445, 1.1441, 1.1445, 1.1369, 1.1378, 1.1456, 1.1456, 1.1456, 1.1456, 1.1456, 1.1456, 1.1456, 1.1456, 1.1456, 1.1456, 1.1456, 1.1456, 1.1456, 1.1456, 1.1455, 1.1455, 1.1455, 1.1455, 1.1455, 1.1455, 1.1455, 1.1455, 1.1455, 1.1455, 1.1455, 1.1455, 1.1455, 1.1455, 1.1455, 1.1455, 1.1455, 1.1449]}, \"token.table\": {\"Topic\": [3, 3, 1, 2, 2, 3, 1, 2, 1, 1, 1, 2, 2, 1, 1, 2, 3, 3, 2, 3, 3, 1, 1, 2, 3, 2, 1, 3, 3, 3, 1, 1, 2, 3, 2, 2, 3, 3, 1, 3, 3, 1, 1, 1, 2, 2, 3, 3, 3, 3, 3, 2, 1, 1, 2, 1, 2, 1, 1, 1, 2, 2, 2, 2, 2, 1, 1, 1, 2, 3, 1, 2, 3, 3, 1, 2, 3, 1, 3, 2, 1, 1, 2, 3, 1, 2, 2, 2, 3, 1, 2, 2, 1, 1, 2, 3, 2, 2, 3, 2, 3, 3, 1, 2, 2, 3, 1, 3, 1, 1, 3, 1], \"Freq\": [0.9998716169690491, 0.9999264211321071, 0.0005823055188838535, 0.9994303722443205, 0.9999487516566533, 0.9998988171090394, 0.007686825210561997, 0.9922888245694137, 0.9999035463351411, 0.9999038743304144, 0.999811216123771, 0.9999436329191153, 0.9998661460136284, 0.9999707904308653, 0.00012108693234566043, 0.9998148003781182, 0.00012108693234566043, 0.9998949856123769, 0.9998789351972859, 0.9999270937065668, 0.9998619174081435, 0.9998573196353691, 7.706446054182391e-05, 7.706446054182391e-05, 0.9999113755301652, 0.9999465025579151, 0.0006566161585873182, 0.9992056393302515, 0.9999677579004072, 0.999941722092122, 0.999870938506574, 0.9998606913393624, 0.9999052952431696, 0.9999275568609285, 0.9999395175199239, 0.9999367459738392, 0.9998218984845886, 0.999985561384153, 0.9999116162670464, 0.999958966572878, 0.9999548707581822, 0.9998667697250034, 0.9998780890825341, 0.9998209880008111, 0.9998285032790714, 0.9999253631835824, 0.9998328442694704, 0.999955226293801, 0.9999018436383779, 0.9999462094319621, 0.9999665058256547, 0.9998847866548572, 0.999971774932747, 0.9999534134743208, 0.999972675221303, 0.006755912941146175, 0.9932420371292359, 0.9999195001122688, 0.9998808506469405, 0.9999518244713033, 0.9998175317687595, 0.9999140175612508, 0.9998427371079068, 0.9998464856618338, 0.9997855874574878, 0.9998783826834969, 0.9999685962752125, 0.0001430292331700628, 0.0001430292331700628, 0.999774339858739, 0.9998969689591422, 0.9999446780872523, 0.9998263010075729, 0.9999502643150769, 0.999841384832418, 0.00014511485991762236, 0.00014511485991762236, 0.9998979043670311, 0.9999590729787037, 0.9999139830286419, 0.9999047092946849, 0.9998877928518454, 0.9998003690516434, 0.9998090558883141, 0.9998310020999147, 0.9998795446503675, 0.9999633950899824, 0.9999079303124236, 0.9999017364091648, 0.9998945928323488, 7.255076134322658e-05, 0.9998706466537055, 0.9999209458207334, 0.9999644548239807, 0.9999664459598108, 0.9998975340091487, 0.9999245794745535, 0.9998899326598718, 0.9999155956535275, 0.9998687127864683, 0.00011025126395263736, 0.9998804652105036, 0.9999572247236912, 0.9998756031383826, 0.9999616488950677, 0.9999454018544931, 0.999897376618353, 0.9999008495230739, 0.9999742702797935, 0.9998797314997643, 0.9999281585231093, 0.9997818835022768], \"Term\": [\"account\", \"actually\", \"also\", \"also\", \"amp\", \"ask\", \"asset\", \"asset\", \"back\", \"bad\", \"become\", \"best\", \"big\", \"bitcoin\", \"book\", \"book\", \"book\", \"btc\", \"build\", \"buy\", \"call\", \"change\", \"coin\", \"coin\", \"coin\", \"come\", \"company\", \"company\", \"crypto\", \"day\", \"different\", \"eth\", \"even\", \"everyone\", \"find\", \"first\", \"game\", \"get\", \"give\", \"go\", \"good\", \"great\", \"happen\", \"hard\", \"help\", \"high\", \"hold\", \"know\", \"last\", \"let\", \"look\", \"lot\", \"make\", \"many\", \"market\", \"mean\", \"mean\", \"money\", \"much\", \"need\", \"never\", \"new\", \"nft\", \"nfts\", \"open\", \"pay\", \"people\", \"please\", \"please\", \"please\", \"point\", \"price\", \"read\", \"really\", \"report\", \"report\", \"report\", \"right\", \"say\", \"see\", \"seem\", \"sell\", \"show\", \"someone\", \"something\", \"start\", \"still\", \"take\", \"talk\", \"tax\", \"tax\", \"team\", \"thing\", \"think\", \"time\", \"today\", \"token\", \"trade\", \"try\", \"tweet\", \"tweet\", \"twitter\", \"use\", \"user\", \"value\", \"want\", \"way\", \"well\", \"work\", \"world\", \"year\", \"yes\"]}, \"R\": 30, \"lambda.step\": 0.01, \"plot.opts\": {\"xlab\": \"PC1\", \"ylab\": \"PC2\"}, \"topic.order\": [2, 1, 3]};\n",
       "\n",
       "function LDAvis_load_lib(url, callback){\n",
       "  var s = document.createElement('script');\n",
       "  s.src = url;\n",
       "  s.async = true;\n",
       "  s.onreadystatechange = s.onload = callback;\n",
       "  s.onerror = function(){console.warn(\"failed to load library \" + url);};\n",
       "  document.getElementsByTagName(\"head\")[0].appendChild(s);\n",
       "}\n",
       "\n",
       "if(typeof(LDAvis) !== \"undefined\"){\n",
       "   // already loaded: just create the visualization\n",
       "   !function(LDAvis){\n",
       "       new LDAvis(\"#\" + \"ldavis_el2114015755425313442710595493\", ldavis_el2114015755425313442710595493_data);\n",
       "   }(LDAvis);\n",
       "}else if(typeof define === \"function\" && define.amd){\n",
       "   // require.js is available: use it to load d3/LDAvis\n",
       "   require.config({paths: {d3: \"https://d3js.org/d3.v5\"}});\n",
       "   require([\"d3\"], function(d3){\n",
       "      window.d3 = d3;\n",
       "      LDAvis_load_lib(\"https://cdn.jsdelivr.net/gh/bmabey/pyLDAvis@3.3.1/pyLDAvis/js/ldavis.v3.0.0.js\", function(){\n",
       "        new LDAvis(\"#\" + \"ldavis_el2114015755425313442710595493\", ldavis_el2114015755425313442710595493_data);\n",
       "      });\n",
       "    });\n",
       "}else{\n",
       "    // require.js not available: dynamically load d3 & LDAvis\n",
       "    LDAvis_load_lib(\"https://d3js.org/d3.v5.js\", function(){\n",
       "         LDAvis_load_lib(\"https://cdn.jsdelivr.net/gh/bmabey/pyLDAvis@3.3.1/pyLDAvis/js/ldavis.v3.0.0.js\", function(){\n",
       "                 new LDAvis(\"#\" + \"ldavis_el2114015755425313442710595493\", ldavis_el2114015755425313442710595493_data);\n",
       "            })\n",
       "         });\n",
       "}\n",
       "</script>"
      ],
      "text/plain": [
       "PreparedData(topic_coordinates=              x         y  topics  cluster       Freq\n",
       "topic                                                \n",
       "1     -0.360693 -0.040108       1        1  36.365214\n",
       "0      0.215240 -0.290895       2        1  31.832999\n",
       "2      0.145454  0.331002       3        1  31.801787, topic_info=         Term          Freq         Total Category  logprob  loglift\n",
       "356    crypto  32481.000000  32481.000000  Default  30.0000  30.0000\n",
       "85        get  31271.000000  31271.000000  Default  29.0000  29.0000\n",
       "182     think  31428.000000  31428.000000  Default  28.0000  28.0000\n",
       "309    people  30109.000000  30109.000000  Default  27.0000  27.0000\n",
       "105        go  23576.000000  23576.000000  Default  26.0000  26.0000\n",
       "...       ...           ...           ...      ...      ...      ...\n",
       "478      hold   5651.059549   5651.944755   Topic3  -5.4075   1.1455\n",
       "770       ask   5338.696249   5339.540270   Topic3  -5.4643   1.1455\n",
       "1229  account   5459.831447   5460.701061   Topic3  -5.4419   1.1455\n",
       "2495   please   6990.397060   6991.577720   Topic3  -5.1948   1.1455\n",
       "1640  company   6087.325768   6091.839117   Topic3  -5.3331   1.1449\n",
       "\n",
       "[128 rows x 6 columns], token_table=      Topic      Freq      Term\n",
       "term                           \n",
       "1229      3  0.999872   account\n",
       "239       3  0.999926  actually\n",
       "405       1  0.000582      also\n",
       "405       2  0.999430      also\n",
       "128       2  0.999949       amp\n",
       "...     ...       ...       ...\n",
       "480       3  0.999901      well\n",
       "65        1  0.999974      work\n",
       "338       1  0.999880     world\n",
       "216       3  0.999928      year\n",
       "2013      1  0.999782       yes\n",
       "\n",
       "[112 rows x 3 columns], R=30, lambda_step=0.01, plot_opts={'xlab': 'PC1', 'ylab': 'PC2'}, topic_order=[2, 1, 3])"
      ]
     },
     "execution_count": 5,
     "metadata": {},
     "output_type": "execute_result"
    }
   ],
   "source": [
    "import pyLDAvis\n",
    "import pyLDAvis.gensim_models\n",
    "\n",
    "#visualizing model\n",
    "pyLDAvis.enable_notebook()\n",
    "vis_3 = pyLDAvis.gensim_models.prepare(lda_model_trigram_three_topics, corpus_trigram, id2word_trigrams)\n",
    "vis_3"
   ]
  },
  {
   "cell_type": "code",
   "execution_count": 6,
   "metadata": {},
   "outputs": [
    {
     "data": {
      "text/plain": [
       "0.21741394603184763"
      ]
     },
     "execution_count": 6,
     "metadata": {},
     "output_type": "execute_result"
    }
   ],
   "source": [
    "#evaluating coherence of LDA model\n",
    "coherence_model_trigram_three_topics = CoherenceModel(model=lda_model_trigram_three_topics, texts=texts_trigrams, dictionary=id2word_trigrams, coherence='c_v')\n",
    "coherence_model_trigram_three_topics.get_coherence()"
   ]
  },
  {
   "cell_type": "markdown",
   "metadata": {},
   "source": [
    "### Coherence score is not good but substantially better than baseline score of 9%."
   ]
  },
  {
   "cell_type": "code",
   "execution_count": 7,
   "metadata": {},
   "outputs": [],
   "source": [
    "#appending probabilities of each tweet\n",
    "vecs_0 = []\n",
    "vecs_1 = []\n",
    "vecs_2 = []\n",
    "for i in range(len(trigram)):\n",
    "    top_topics = lda_model_trigram_three_topics.get_document_topics(corpus_trigram[i], minimum_probability=0.0)\n",
    "    vecs_0.append(top_topics[0][1])\n",
    "    vecs_1.append(top_topics[1][1])\n",
    "    vecs_2.append(top_topics[2][1])\n",
    "\n",
    "\n",
    "#creating dataframe\n",
    "topic_0 = pd.Series(vecs_0, index=trigram.index)\n",
    "topic_1 = pd.Series(vecs_1, index=trigram.index)\n",
    "topic_2 = pd.Series(vecs_2, index=trigram.index)\n",
    "\n",
    "topic_model_df = pd.concat([trigram, topic_0, topic_1, topic_2], axis=1)\n",
    "\n",
    "#saving dataframe for model testing\n",
    "topic_model_df.to_csv('data/topic_model_dataframe.csv')"
   ]
  },
  {
   "cell_type": "code",
   "execution_count": null,
   "metadata": {},
   "outputs": [],
   "source": []
  }
 ],
 "metadata": {
  "kernelspec": {
   "display_name": "Python (contest)",
   "language": "python",
   "name": "contest_env"
  },
  "language_info": {
   "codemirror_mode": {
    "name": "ipython",
    "version": 3
   },
   "file_extension": ".py",
   "mimetype": "text/x-python",
   "name": "python",
   "nbconvert_exporter": "python",
   "pygments_lexer": "ipython3",
   "version": "3.8.13"
  },
  "orig_nbformat": 4
 },
 "nbformat": 4,
 "nbformat_minor": 2
}
