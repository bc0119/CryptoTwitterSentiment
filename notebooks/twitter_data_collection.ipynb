{
 "cells": [
  {
   "cell_type": "markdown",
   "id": "92b2dbf2",
   "metadata": {
    "ExecuteTime": {
     "end_time": "2022-05-06T18:38:05.786842Z",
     "start_time": "2022-05-06T18:38:05.765742Z"
    }
   },
   "source": [
    "# Data Collection\n",
    "\n",
    "In this section, we use snscrape to scrape 1+ million tweets from the top 100 users in crypto twitter."
   ]
  },
  {
   "cell_type": "code",
   "execution_count": null,
   "id": "393f5f11",
   "metadata": {},
   "outputs": [],
   "source": [
    "import snscrape.modules.twitter as sntwitter\n",
    "import pandas as pd\n",
    "\n",
    "top_users =['SushiSwap', 'frxresearch', 'masonnystrom', 'ZeMariaMacedo', 'mdudas', 'katherineykwu', 'lopp', 'ohmzeus',\n",
    "          '_Checkmatey_', 'AltcoinGordon', 'ASvanevik', 'JamesTodaroMD', 'PaikCapital', 'JosephTodaro_', 'coryklippsten',\n",
    "          'theklineventure', 'CryptoLeslie', 'JoeBGrech', 'vishalkgupyta', '_MinTeo', 'BTC_Archive', 'teo_leibowitz',\n",
    "           'danheld', 'MadelonVos_', 'LayahHeilpern', 'CryptoMichNL', 'tyler', 'arjunblj', 'TheCryptoDog', 'HaileyLennonBTC',\n",
    "           'ljxie', 'tarunchitra', 'CryptoDonAlt', 'CryptoKaleo', 'woonomic', '100trillionUSD', 'DocumentingBTC', 'LynAldenContact',\n",
    "           'PeterLBrandt', 'TuurDemeester', 'NoelleInMadrid', 'fundstrat', 'nic__carter', 'josiebellini', 'ercwl', 'BarrySilbert', \n",
    "           'Melt_Dem', 'twobitidiot', 'AriDavidPaul', 'AriannaSimpson', 'jessewldn', 'Bitdealer_', 'jamie247', 'SanjaKon', 'alex_dreyfus',\n",
    "           'aantonop', 'Shaughnessy119', 'jack', 'crlomazzo', 'scottmelker', 'zhusu', 'tatianakoffman', 'ErikVoorhees', 'spencernoon',\n",
    "           'NickSzabo4', 'RaoulGMI', 'cburniske', 'notsofast', 'KatieTheRussian', 'saylor', 'SBF_FTX', 'VitalikButerin', 'ethereumJoseph',\n",
    "           'hasufl', 'scupytrooples', 'cz_binance', 'lawmaster', '_evalawrence', 'adam3us', 'girlgone_crypto', 'Arthur_0x', 'CryptoWendyO',\n",
    "           'RyanWatkins_', 'riabhutoria', 'tbr90', 'iamjosephyoung', 'lisajytan', 'zackvoell', 'Timccopeland', 'La_Cuen', 'APompliano',\n",
    "           'PeterMcCormack', 'CamiRusso', 'GoingParabolic', 'cobie', 'naval', 'laurashin', 'nikhileshde', 'CryptoTaxGirl', 'gordonlawtd',\n",
    "           'Coin_Tracking']"
   ]
  },
  {
   "cell_type": "code",
   "execution_count": 24,
   "id": "7d98945f",
   "metadata": {
    "ExecuteTime": {
     "end_time": "2022-05-06T19:22:47.966420Z",
     "start_time": "2022-05-06T18:48:54.385038Z"
    }
   },
   "outputs": [],
   "source": [
    "#part 1 of data collection (01/2022 to  05/2022)\n",
    "tweets_list = []\n",
    "\n",
    "for x in top_users:\n",
    "# Using TwitterSearchScraper to scrape data and append tweets to list\n",
    "    for i,tweet in enumerate(sntwitter.TwitterSearchScraper('from:{} since:2022-01-01 until:2022-05-06'.format(x)).get_items()):\n",
    "        tweets_list.append([tweet.date, tweet.content, tweet.user.username, tweet.replyCount, tweet.likeCount, tweet.retweetCount, tweet.quoteCount])\n",
    "    \n",
    "# Creating a dataframe from the tweets list above\n",
    "tweets_df = pd.DataFrame(tweets_list, columns=['Datetime', 'Text', 'Username', 'Reply_Count', 'Amt_of_Likes', 'Amt_of_Retweets', 'Amt_of_Quotes'])"
   ]
  },
  {
   "cell_type": "code",
   "execution_count": 25,
   "id": "a959bfff",
   "metadata": {
    "ExecuteTime": {
     "end_time": "2022-05-06T19:37:48.185125Z",
     "start_time": "2022-05-06T19:37:48.129783Z"
    }
   },
   "outputs": [
    {
     "name": "stdout",
     "output_type": "stream",
     "text": [
      "<class 'pandas.core.frame.DataFrame'>\n",
      "RangeIndex: 124370 entries, 0 to 124369\n",
      "Data columns (total 7 columns):\n",
      " #   Column           Non-Null Count   Dtype              \n",
      "---  ------           --------------   -----              \n",
      " 0   Datetime         124370 non-null  datetime64[ns, UTC]\n",
      " 1   Text             124370 non-null  object             \n",
      " 2   Username         124370 non-null  object             \n",
      " 3   Reply_Count      124370 non-null  int64              \n",
      " 4   Amt_of_Likes     124370 non-null  int64              \n",
      " 5   Amt_of_Retweets  124370 non-null  int64              \n",
      " 6   Amt_of_Quotes    124370 non-null  int64              \n",
      "dtypes: datetime64[ns, UTC](1), int64(4), object(2)\n",
      "memory usage: 6.6+ MB\n"
     ]
    }
   ],
   "source": [
    "tweets_df.info()"
   ]
  },
  {
   "cell_type": "code",
   "execution_count": 27,
   "id": "5bbdb05f",
   "metadata": {
    "ExecuteTime": {
     "end_time": "2022-05-06T19:39:07.659413Z",
     "start_time": "2022-05-06T19:39:07.632042Z"
    }
   },
   "outputs": [
    {
     "data": {
      "text/html": [
       "<div>\n",
       "<style scoped>\n",
       "    .dataframe tbody tr th:only-of-type {\n",
       "        vertical-align: middle;\n",
       "    }\n",
       "\n",
       "    .dataframe tbody tr th {\n",
       "        vertical-align: top;\n",
       "    }\n",
       "\n",
       "    .dataframe thead th {\n",
       "        text-align: right;\n",
       "    }\n",
       "</style>\n",
       "<table border=\"1\" class=\"dataframe\">\n",
       "  <thead>\n",
       "    <tr style=\"text-align: right;\">\n",
       "      <th></th>\n",
       "      <th>Datetime</th>\n",
       "      <th>Text</th>\n",
       "      <th>Username</th>\n",
       "      <th>Reply_Count</th>\n",
       "      <th>Amt_of_Likes</th>\n",
       "      <th>Amt_of_Retweets</th>\n",
       "      <th>Amt_of_Quotes</th>\n",
       "    </tr>\n",
       "  </thead>\n",
       "  <tbody>\n",
       "    <tr>\n",
       "      <th>0</th>\n",
       "      <td>2022-05-04 14:00:02+00:00</td>\n",
       "      <td>⚡ Live on Snapshot: Sushi 2.0 - Road Ahead Pro...</td>\n",
       "      <td>SushiSwap</td>\n",
       "      <td>22</td>\n",
       "      <td>92</td>\n",
       "      <td>14</td>\n",
       "      <td>1</td>\n",
       "    </tr>\n",
       "    <tr>\n",
       "      <th>1</th>\n",
       "      <td>2022-05-03 14:37:14+00:00</td>\n",
       "      <td>🍣 Another $700k served to the bar for $xSUSHI ...</td>\n",
       "      <td>SushiSwap</td>\n",
       "      <td>19</td>\n",
       "      <td>73</td>\n",
       "      <td>12</td>\n",
       "      <td>0</td>\n",
       "    </tr>\n",
       "    <tr>\n",
       "      <th>2</th>\n",
       "      <td>2022-05-02 09:36:44+00:00</td>\n",
       "      <td>📣 Join us today (2nd May) at 14:00pm UTC for o...</td>\n",
       "      <td>SushiSwap</td>\n",
       "      <td>19</td>\n",
       "      <td>129</td>\n",
       "      <td>20</td>\n",
       "      <td>0</td>\n",
       "    </tr>\n",
       "    <tr>\n",
       "      <th>3</th>\n",
       "      <td>2022-04-30 14:30:10+00:00</td>\n",
       "      <td>Today in Sushi community analytics:\\n\\n🍱 Top M...</td>\n",
       "      <td>SushiSwap</td>\n",
       "      <td>25</td>\n",
       "      <td>66</td>\n",
       "      <td>12</td>\n",
       "      <td>1</td>\n",
       "    </tr>\n",
       "    <tr>\n",
       "      <th>4</th>\n",
       "      <td>2022-04-29 09:37:41+00:00</td>\n",
       "      <td>📰 Sushi April Recap 🍣\\n\\nA full month of produ...</td>\n",
       "      <td>SushiSwap</td>\n",
       "      <td>16</td>\n",
       "      <td>68</td>\n",
       "      <td>9</td>\n",
       "      <td>1</td>\n",
       "    </tr>\n",
       "  </tbody>\n",
       "</table>\n",
       "</div>"
      ],
      "text/plain": [
       "                   Datetime  \\\n",
       "0 2022-05-04 14:00:02+00:00   \n",
       "1 2022-05-03 14:37:14+00:00   \n",
       "2 2022-05-02 09:36:44+00:00   \n",
       "3 2022-04-30 14:30:10+00:00   \n",
       "4 2022-04-29 09:37:41+00:00   \n",
       "\n",
       "                                                Text   Username  Reply_Count  \\\n",
       "0  ⚡ Live on Snapshot: Sushi 2.0 - Road Ahead Pro...  SushiSwap           22   \n",
       "1  🍣 Another $700k served to the bar for $xSUSHI ...  SushiSwap           19   \n",
       "2  📣 Join us today (2nd May) at 14:00pm UTC for o...  SushiSwap           19   \n",
       "3  Today in Sushi community analytics:\\n\\n🍱 Top M...  SushiSwap           25   \n",
       "4  📰 Sushi April Recap 🍣\\n\\nA full month of produ...  SushiSwap           16   \n",
       "\n",
       "   Amt_of_Likes  Amt_of_Retweets  Amt_of_Quotes  \n",
       "0            92               14              1  \n",
       "1            73               12              0  \n",
       "2           129               20              0  \n",
       "3            66               12              1  \n",
       "4            68                9              1  "
      ]
     },
     "execution_count": 27,
     "metadata": {},
     "output_type": "execute_result"
    }
   ],
   "source": [
    "tweets_df.head()"
   ]
  },
  {
   "cell_type": "code",
   "execution_count": 30,
   "id": "12bc812e",
   "metadata": {
    "ExecuteTime": {
     "end_time": "2022-05-06T19:39:43.427265Z",
     "start_time": "2022-05-06T19:39:41.996805Z"
    }
   },
   "outputs": [],
   "source": [
    "#saving tweets to csv\n",
    "tweets_df.to_csv('crypto_tweets.csv')"
   ]
  },
  {
   "cell_type": "code",
   "execution_count": null,
   "id": "2ca2bfb3",
   "metadata": {},
   "outputs": [],
   "source": [
    "#part two of data collection (01/2020 - 01/2022)\n",
    "tweets_list_2 = []\n",
    "\n",
    "for x in top_users:\n",
    "# Using TwitterSearchScraper to scrape data and append tweets to list\n",
    "    for i,tweet in enumerate(sntwitter.TwitterSearchScraper('from:{} since:2020-01-01 until:2022-01-01'.format(x)).get_items()):\n",
    "        \n",
    "        if i > 1000000:\n",
    "            break\n",
    "        \n",
    "        tweets_list_2.append([tweet.date, tweet.content, tweet.user.username, tweet.replyCount, tweet.likeCount, tweet.retweetCount, tweet.quoteCount])\n",
    "    \n",
    "# Creating a dataframe from the tweets list above\n",
    "tweets_df_2 = pd.DataFrame(tweets_list_2, columns=['Datetime', 'Text', 'Username', 'Reply_Count', 'Amt_of_Likes', 'Amt_of_Retweets', 'Amt_of_Quotes'])"
   ]
  },
  {
   "cell_type": "code",
   "execution_count": null,
   "id": "9e6a797e",
   "metadata": {},
   "outputs": [],
   "source": [
    "tweets_df_2.to_csv('crypto_tweets_pts.csv')"
   ]
  }
 ],
 "metadata": {
  "kernelspec": {
   "display_name": "Python (contest)",
   "language": "python",
   "name": "contest_env"
  },
  "language_info": {
   "codemirror_mode": {
    "name": "ipython",
    "version": 3
   },
   "file_extension": ".py",
   "mimetype": "text/x-python",
   "name": "python",
   "nbconvert_exporter": "python",
   "pygments_lexer": "ipython3",
   "version": "3.8.13"
  },
  "toc": {
   "base_numbering": 1,
   "nav_menu": {},
   "number_sections": true,
   "sideBar": true,
   "skip_h1_title": false,
   "title_cell": "Table of Contents",
   "title_sidebar": "Contents",
   "toc_cell": false,
   "toc_position": {},
   "toc_section_display": true,
   "toc_window_display": false
  },
  "varInspector": {
   "cols": {
    "lenName": 16,
    "lenType": 16,
    "lenVar": 40
   },
   "kernels_config": {
    "python": {
     "delete_cmd_postfix": "",
     "delete_cmd_prefix": "del ",
     "library": "var_list.py",
     "varRefreshCmd": "print(var_dic_list())"
    },
    "r": {
     "delete_cmd_postfix": ") ",
     "delete_cmd_prefix": "rm(",
     "library": "var_list.r",
     "varRefreshCmd": "cat(var_dic_list()) "
    }
   },
   "types_to_exclude": [
    "module",
    "function",
    "builtin_function_or_method",
    "instance",
    "_Feature"
   ],
   "window_display": false
  }
 },
 "nbformat": 4,
 "nbformat_minor": 5
}
